{
  "nbformat": 4,
  "nbformat_minor": 0,
  "metadata": {
    "colab": {
      "name": "HeartSensorDetection.ipynb",
      "provenance": [],
      "collapsed_sections": []
    },
    "kernelspec": {
      "name": "python3",
      "display_name": "Python 3"
    },
    "language_info": {
      "name": "python"
    }
  },
  "cells": [
    {
      "cell_type": "markdown",
      "source": [
        "# Importing Relevant Modules"
      ],
      "metadata": {
        "id": "u0u8vlDqU5B6"
      }
    },
    {
      "cell_type": "code",
      "execution_count": null,
      "metadata": {
        "id": "8l2zLkQ-deKY",
        "outputId": "f156147e-c01c-4833-d073-6834921dddce",
        "colab": {
          "base_uri": "https://localhost:8080/"
        }
      },
      "outputs": [
        {
          "output_type": "stream",
          "name": "stdout",
          "text": [
            "done importing modules\n"
          ]
        }
      ],
      "source": [
        "import numpy as np\n",
        "import pandas as pd\n",
        "import matplotlib.pyplot as plt\n",
        "from matplotlib import rcParams\n",
        "import warnings\n",
        "warnings.filterwarnings(\"ignore\")\n",
        "from sklearn.model_selection import train_test_split\n",
        "from sklearn.neighbors import KNeighborsClassifier\n",
        "import csv\n",
        "from sklearn.model_selection import cross_val_score\n",
        "from sklearn.model_selection import GridSearchCV\n",
        "\n",
        "print(\"done importing modules\")"
      ]
    },
    {
      "cell_type": "markdown",
      "source": [
        "# Displaying how our data looks"
      ],
      "metadata": {
        "id": "nX_tB3YEypfK"
      }
    },
    {
      "cell_type": "code",
      "source": [
        "counter = 0\n",
        "\n",
        "with open(\"heart.csv\") as csvfile:\n",
        "    filen = csv.reader(csvfile)\n",
        "    for i_th in filen:\n",
        "      print(i_th[0], i_th[1], i_th[2], i_th[3], i_th[4], i_th[5])\n",
        "      counter += 1\n",
        "      if counter >= 9:\n",
        "          break"
      ],
      "metadata": {
        "id": "jredWdFrdnrK",
        "colab": {
          "base_uri": "https://localhost:8080/"
        },
        "outputId": "447bfb7f-3d4d-4146-f479-7c5f7656c730"
      },
      "execution_count": null,
      "outputs": [
        {
          "output_type": "stream",
          "name": "stdout",
          "text": [
            "﻿age sex cp trestbps restecg target\n",
            "63 1 3 145 0 1\n",
            "37 1 2 130 1 1\n",
            "41 0 1 130 0 1\n",
            "56 1 1 120 1 1\n",
            "57 0 0 120 1 1\n",
            "57 1 0 140 1 1\n",
            "56 0 1 140 0 1\n",
            "44 1 1 120 1 1\n"
          ]
        }
      ]
    },
    {
      "cell_type": "code",
      "source": [
        "data = pd.read_csv('heart.csv')\n",
        "print(data.describe())"
      ],
      "metadata": {
        "colab": {
          "base_uri": "https://localhost:8080/"
        },
        "id": "4RIvisCAeLkm",
        "outputId": "8acfecf4-0833-4411-c8ef-21905dace6a5"
      },
      "execution_count": null,
      "outputs": [
        {
          "output_type": "stream",
          "name": "stdout",
          "text": [
            "              age         sex          cp    trestbps     restecg      target\n",
            "count  303.000000  303.000000  303.000000  303.000000  303.000000  303.000000\n",
            "mean    54.366337    0.683168    0.966997  131.623762    0.528053    0.544554\n",
            "std      9.082101    0.466011    1.032052   17.538143    0.525860    0.498835\n",
            "min     29.000000    0.000000    0.000000   94.000000    0.000000    0.000000\n",
            "25%     47.500000    0.000000    0.000000  120.000000    0.000000    0.000000\n",
            "50%     55.000000    1.000000    1.000000  130.000000    1.000000    1.000000\n",
            "75%     61.000000    1.000000    2.000000  140.000000    1.000000    1.000000\n",
            "max     77.000000    1.000000    3.000000  200.000000    2.000000    1.000000\n"
          ]
        }
      ]
    },
    {
      "cell_type": "code",
      "source": [
        "y = data['target']\n",
        "X = data.drop(['target'], axis = 1) #setting the columns as the labels, dropping the target which is a cluster of values"
      ],
      "metadata": {
        "id": "_wrw66GU6ui-"
      },
      "execution_count": null,
      "outputs": []
    },
    {
      "cell_type": "markdown",
      "source": [
        "# Sample usage of splitting our dataset"
      ],
      "metadata": {
        "id": "fuExVuUaygna"
      }
    },
    {
      "cell_type": "code",
      "source": [
        "#Experimenting first with a 60-40 train/split dataset\n",
        "\n",
        "X_train, X_test, y_train, y_test = train_test_split(X, y, test_size=0.4, random_state=0)\n",
        "# print(X_train.shape, y_train.shape) #same row shapes\n",
        "knn = KNeighborsClassifier(n_neighbors = 6)\n",
        "knn.fit(X_train,y_train)\n",
        "knn.predict(X_test) #predicts for the entire testing set\n",
        "print(\"Manual Splitting Method\")\n",
        "print(knn.score(X_test, y_test))\n",
        "\n",
        "print(\"\\n\")\n",
        "print(\"Cross-Validation Method\")\n",
        "knn.fit(X_train,y_train)\n",
        "cross_validation_scores = cross_val_score(knn, X, y, cv=5) #splits the actual dataset into 5 groups and scores it 5 different times \n",
        "print(\"Array of averaged scores\", cross_validation_scores)\n",
        "print(cross_validation_scores.mean())\n",
        "\n",
        "\n",
        "\n",
        "#However, sklearn's cross-validation is a better approach since it randomly splits up the dataset into 'k' groups"
      ],
      "metadata": {
        "id": "yPiLATS56tB-",
        "colab": {
          "base_uri": "https://localhost:8080/"
        },
        "outputId": "033abc14-8993-4c12-80e5-3a83e73d242a"
      },
      "execution_count": null,
      "outputs": [
        {
          "output_type": "stream",
          "name": "stdout",
          "text": [
            "Manual Splitting Method\n",
            "0.5901639344262295\n",
            "\n",
            "\n",
            "Cross-Validation Method\n",
            "Array of averaged scores [0.52459016 0.73770492 0.6557377  0.53333333 0.63333333]\n",
            "0.6169398907103825\n"
          ]
        }
      ]
    },
    {
      "cell_type": "markdown",
      "source": [
        "# Hyperparameter Search"
      ],
      "metadata": {
        "id": "BxWVlKEx1WZ-"
      }
    },
    {
      "cell_type": "code",
      "source": [
        "#Hyperparameter Tuning, decided to use Grid Search\n",
        "knn_second = KNeighborsClassifier()\n",
        "param_grid = {\"n_neighbors\": np.arange(1, 25)} #dictionary of all the values we want to test\n",
        "knn_testing = GridSearchCV(knn_second, param_grid, cv=5)\n",
        "knn_testing.fit(X, y)\n",
        "print(knn_testing.best_params_, knn_testing.best_score_) #{'n_neighbors': 1}, but choosing to set n_neighbors to 6 instead\n"
      ],
      "metadata": {
        "colab": {
          "base_uri": "https://localhost:8080/"
        },
        "id": "uMkQBTNphdGd",
        "outputId": "a2cdb9f4-258f-4dab-b017-7182eeab9f7f"
      },
      "execution_count": null,
      "outputs": [
        {
          "output_type": "stream",
          "name": "stdout",
          "text": [
            "{'n_neighbors': 1} 0.6206010928961748\n"
          ]
        }
      ]
    },
    {
      "cell_type": "markdown",
      "source": [
        "# Hyperparameters data visualization"
      ],
      "metadata": {
        "id": "uHwfhFYu1cMp"
      }
    },
    {
      "cell_type": "code",
      "source": [
        "knn_scores = []\n",
        "for k in range(1,10):\n",
        "    knn_classifier = KNeighborsClassifier(n_neighbors = k)\n",
        "    score=cross_val_score(knn_classifier,X,y,cv=5)\n",
        "    knn_scores.append(score.mean())\n",
        "# print(knn_scores)\n",
        "\n",
        "plt.plot([k for k in range(1, 10)], knn_scores, color = 'blue')\n",
        "for i in range(1,10):\n",
        "    plt.text(i, knn_scores[i-1].round(2), (i, knn_scores[i-1].round(2)))\n",
        "plt.xticks([i for i in range(1, 10)])\n",
        "plt.xlabel('Number of Neighbors (K)')\n",
        "plt.ylabel('Scores')\n",
        "plt.title('K Neighbors Classifier scores for different K values')\n",
        "plt.show()"
      ],
      "metadata": {
        "id": "EqfO81Mf657a",
        "outputId": "20f064e3-5319-48cb-872e-94129228e906",
        "colab": {
          "base_uri": "https://localhost:8080/",
          "height": 295
        }
      },
      "execution_count": null,
      "outputs": [
        {
          "output_type": "display_data",
          "data": {
            "text/plain": [
              "<Figure size 432x288 with 1 Axes>"
            ],
            "image/png": "[encoded data removed]"
          },
          "metadata": {
            "needs_background": "light"
          }
        }
      ]
    },
    {
      "cell_type": "markdown",
      "source": [
        "# Predicting with Maanas' heart data\n"
      ],
      "metadata": {
        "id": "6SecrGsS1g53"
      }
    },
    {
      "cell_type": "code",
      "source": [
        "participants = pd.read_csv('participants.csv')\n",
        "maanas_y = data['target']\n",
        "maanas_X = data.drop(['target'], axis = 1)"
      ],
      "metadata": {
        "id": "gXVyMS8T3OuV"
      },
      "execution_count": null,
      "outputs": []
    },
    {
      "cell_type": "code",
      "source": [
        "maanas_guiltyornot = knn.predict(maanas_X)[0:1]\n",
        "if maanas_guiltyornot > 0:\n",
        "  print(\"Sorry, we regret to inform you that you have been diagnosed for one/more conditions of heart disease\")\n",
        "else: \n",
        "  print(\"It appears you're all good to go! \")"
      ],
      "metadata": {
        "colab": {
          "base_uri": "https://localhost:8080/"
        },
        "id": "ZUiA6hnq1mpM",
        "outputId": "51f95315-28d2-431a-9f92-5c6a6129b25c"
      },
      "execution_count": null,
      "outputs": [
        {
          "output_type": "stream",
          "name": "stdout",
          "text": [
            "It appears you're all good to go! \n"
          ]
        }
      ]
    }
  ]
}